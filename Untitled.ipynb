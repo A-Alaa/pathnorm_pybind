{
 "cells": [
  {
   "cell_type": "code",
   "execution_count": 1,
   "id": "b3009e92",
   "metadata": {},
   "outputs": [
    {
     "ename": "TypeError",
     "evalue": "Unable to convert function return value to a Python type! The signature was\n\t(self: proxmap_pathnorm.MyClass) -> Eigen::Matrix<double, -1, 1, 0, -1, 1>",
     "output_type": "error",
     "traceback": [
      "\u001b[0;31m---------------------------------------------------------------------------\u001b[0m",
      "\u001b[0;31mTypeError\u001b[0m                                 Traceback (most recent call last)",
      "\u001b[0;31mTypeError\u001b[0m: Unregistered type : Eigen::Matrix<double, -1, 1, 0, -1, 1>",
      "\nThe above exception was the direct cause of the following exception:\n",
      "\u001b[0;31mTypeError\u001b[0m                                 Traceback (most recent call last)",
      "\u001b[0;32m<ipython-input-1-05b7e51b1ed3>\u001b[0m in \u001b[0;36m<module>\u001b[0;34m\u001b[0m\n\u001b[1;32m      9\u001b[0m \u001b[0mSimulation\u001b[0m\u001b[0;34m.\u001b[0m\u001b[0mrun\u001b[0m\u001b[0;34m(\u001b[0m\u001b[0;34m)\u001b[0m\u001b[0;34m\u001b[0m\u001b[0;34m\u001b[0m\u001b[0m\n\u001b[1;32m     10\u001b[0m \u001b[0;34m\u001b[0m\u001b[0m\n\u001b[0;32m---> 11\u001b[0;31m plt.plot(Simulation.v_data, Simulation.v_gamma, \\\n\u001b[0m\u001b[1;32m     12\u001b[0m \"--\", linewidth = 3, color=(1,0,0,0.6),label=\"Function Value\")\n\u001b[1;32m     13\u001b[0m \u001b[0mplt\u001b[0m\u001b[0;34m.\u001b[0m\u001b[0mylim\u001b[0m\u001b[0;34m(\u001b[0m\u001b[0;34m-\u001b[0m\u001b[0;36m10\u001b[0m\u001b[0;34m,\u001b[0m\u001b[0;36m10\u001b[0m\u001b[0;34m)\u001b[0m\u001b[0;34m\u001b[0m\u001b[0;34m\u001b[0m\u001b[0m\n",
      "\u001b[0;31mTypeError\u001b[0m: Unable to convert function return value to a Python type! The signature was\n\t(self: proxmap_pathnorm.MyClass) -> Eigen::Matrix<double, -1, 1, 0, -1, 1>"
     ]
    }
   ],
   "source": [
    "import sys\n",
    "sys.path.append(\"build/\")\n",
    "import numpy as np\n",
    "from proxmap_pathnorm import MyClass\n",
    "\n",
    "import matplotlib.pyplot as plt\n",
    "\n",
    "Simulation = MyClass(-4,4,1000)\n",
    "Simulation.run()\n",
    "\n",
    "plt.plot(Simulation.v_data, Simulation.v_gamma, \\\n",
    "\"--\", linewidth = 3, color=(1,0,0,0.6),label=\"Function Value\")\n",
    "plt.ylim(-10,10)\n",
    "plt.xlabel(\"x\")\n",
    "plt.ylabel(\"($f(x) = \\gamma(x)$)\")\n",
    "plt.title(\"(Gamma Function: $\\gamma(z) = \\int_0^\\infty x^{z-1} e^{-x} dx$)\",fontsize = 18);\n",
    "plt.show()"
   ]
  },
  {
   "cell_type": "code",
   "execution_count": 2,
   "id": "a94bf09a",
   "metadata": {},
   "outputs": [
    {
     "name": "stdout",
     "output_type": "stream",
     "text": [
      "CMakeCache.txt\t     Makefile\r\n",
      "CMakeFiles\t     proxmap_pathnorm.cpython-39-x86_64-linux-gnu.so\r\n",
      "cmake_install.cmake  pybind11\r\n"
     ]
    }
   ],
   "source": [
    "!ls build"
   ]
  },
  {
   "cell_type": "code",
   "execution_count": null,
   "id": "21666975",
   "metadata": {},
   "outputs": [],
   "source": []
  }
 ],
 "metadata": {
  "kernelspec": {
   "display_name": "Python 3 (ipykernel)",
   "language": "python",
   "name": "python3"
  },
  "language_info": {
   "codemirror_mode": {
    "name": "ipython",
    "version": 3
   },
   "file_extension": ".py",
   "mimetype": "text/x-python",
   "name": "python",
   "nbconvert_exporter": "python",
   "pygments_lexer": "ipython3",
   "version": "3.8.5"
  }
 },
 "nbformat": 4,
 "nbformat_minor": 5
}
